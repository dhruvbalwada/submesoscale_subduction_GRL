{
 "cells": [
  {
   "cell_type": "markdown",
   "metadata": {},
   "source": [
    "# Generate the appropriate input files/conditions for channel runs\n",
    "\n",
    "a) wind stress with sin winds. \n",
    "\n",
    "b) surface temp restoring. (we have not tested against flux vs restoration, but will have to wait for later. Brannigan et al 2015 alludes to the point that maybe a temp restoration will somehow damp/effect the submesoscale, but I didn't see a reference. Anyways its not a settled issue, and we should just run with what we have for now. ) \n",
    "\n",
    "c) Topography is flat with a ridge. \n",
    "\n",
    "d) Sponge layer restoring on the northern boundary."
   ]
  },
  {
   "cell_type": "code",
   "execution_count": 1,
   "metadata": {
    "collapsed": true
   },
   "outputs": [],
   "source": [
    "# load modules \n",
    "import numpy as np\n",
    "import xarray as xr\n",
    "from xmitgcm import open_mdsdataset\n",
    "from matplotlib import pyplot as plt\n",
    "%matplotlib inline"
   ]
  },
  {
   "cell_type": "code",
   "execution_count": 2,
   "metadata": {
    "collapsed": true
   },
   "outputs": [],
   "source": [
    "# set resolution\n",
    "res = 5 \n",
    "\n",
    "# set output_directory to save input files. \n",
    "output_dir = '/swot/SUM05/dbalwada/input_data/input_files_submeso_channel_new/%02d' %res + 'km_res/'\n",
    "\n",
    "# set format of binary files \n",
    "tp= '>f8'"
   ]
  },
  {
   "cell_type": "code",
   "execution_count": 3,
   "metadata": {
    "collapsed": true
   },
   "outputs": [],
   "source": [
    "# function that makes xy grid\n",
    "def make_grid_xy(n, length=2e6):\n",
    "    lx, ly = length, length\n",
    "    nx, ny = n, n\n",
    "    dx, dy = lx/nx, ly/ny\n",
    "\n",
    "    # create mesh-grids for cell centers\n",
    "    xc, yc = np.meshgrid(\n",
    "                dx * np.arange(nx) + dx/2,\n",
    "                dy * np.arange(ny) + dy/2)\n",
    "    \n",
    "    return xc, yc"
   ]
  },
  {
   "cell_type": "code",
   "execution_count": 4,
   "metadata": {
    "collapsed": true
   },
   "outputs": [],
   "source": [
    "# domain width and length (currently using a square)\n",
    "Lx = 2e6\n",
    "\n",
    "# number of center grid points (how many dx fit in the domain)\n",
    "n = int(Lx/res/1000)\n",
    "\n",
    "# generate the x,y grid\n",
    "xc, yc = make_grid_xy(n, Lx)"
   ]
  },
  {
   "cell_type": "markdown",
   "metadata": {},
   "source": [
    "## Topographic shape \n",
    "\n",
    "Large scale shape of topography - flat bottom with gaussian bump \n",
    "\n",
    "$$ bathy = -H + h_b = -H + h_0 e^{-x^2/\\sigma^2} $$\n",
    "\n",
    "With $H = 2985$ m, $h_0 = 927$ m and $\\sigma = 75$ km.\n",
    "\n",
    "(The particular numbers are chosen to match Ryan's previous experiments, and also work with the vertical grid)"
   ]
  },
  {
   "cell_type": "code",
   "execution_count": 5,
   "metadata": {
    "collapsed": true
   },
   "outputs": [],
   "source": [
    "H  = 2985.0\n",
    "h0 = 0.0\n",
    "sig= 75.0e3\n",
    "\n",
    "bathy      = -(H - h0*np.exp(-(xc - Lx/2)**2 / sig**2))\n",
    "bathy[0,:] = 0.0 # create a wall to the south. By default MITgcm assumes periodic in both directions. \n"
   ]
  },
  {
   "cell_type": "code",
   "execution_count": 7,
   "metadata": {},
   "outputs": [
    {
     "data": {
      "text/plain": [
       "[<matplotlib.lines.Line2D at 0x7f89b6e4c780>]"
      ]
     },
     "execution_count": 7,
     "metadata": {},
     "output_type": "execute_result"
    },
    {
     "data": {
      "image/png": "[encoded data removed]",
      "text/plain": [
       "<matplotlib.figure.Figure at 0x7f89e4dede80>"
      ]
     },
     "metadata": {},
     "output_type": "display_data"
    }
   ],
   "source": [
    "# plot the generated topography for visual verification\n",
    "plt.figure(figsize=(10,5))\n",
    "plt.subplot(1,2,1)\n",
    "plt.contourf(bathy)\n",
    "plt.colorbar()\n",
    "\n",
    "plt.subplot(1,2,2)\n",
    "plt.plot(bathy[10,:],'.-')"
   ]
  },
  {
   "cell_type": "code",
   "execution_count": 8,
   "metadata": {
    "collapsed": true
   },
   "outputs": [],
   "source": [
    "# save to file\n",
    "bathy.astype(tp).tofile(output_dir + 'BATHY_flat_%03d.bin' % res)"
   ]
  },
  {
   "cell_type": "markdown",
   "metadata": {},
   "source": [
    "## Wind conditions \n",
    "\n",
    "We use an atmospheric jet as the wind forcing. This condition diverges slightly from Ryan's previous runs, as generate a jet that is more focussed in the center. \n",
    "\n",
    "\\begin{equation}\n",
    "\\tau = \\tau_0 sin(\\pi y/L_y) \n",
    "\\end{equation}\n",
    "\n",
    "where $\\tau_0 = 0.2$ N/m^2 is the maximum wind stress at the center of the domain."
   ]
  },
  {
   "cell_type": "code",
   "execution_count": 6,
   "metadata": {
    "collapsed": true
   },
   "outputs": [],
   "source": [
    "tau0 = 0.2\n",
    "tau = np.zeros([n,n])\n",
    "\n",
    "# make sure that the wind goes to zero at the north and south boundary within in the domain.\n",
    "# be careful that one grid point to the south is just land. \n",
    "# the way the wind is defined right now, the wavelength changes slightly between runs.\n",
    "# also make sure that the wind profile looks the same in all the runs with different resolution.\n",
    "\n",
    "dy = yc[1,1] - yc[0,1]\n",
    "tau = tau0*(np.sin(np.pi* (yc-dy)/(2000-dy/1000)/1000)) # slightly squeezed wind profile to account \n",
    "# for the presence of land cell at the southern most grid cell. "
   ]
  },
  {
   "cell_type": "code",
   "execution_count": 20,
   "metadata": {
    "collapsed": true
   },
   "outputs": [],
   "source": [
    "#tau[yc<=2500.] = 0.\n",
    "#tau[yc>=(2000e3-5e3)]= 0."
   ]
  },
  {
   "cell_type": "code",
   "execution_count": 7,
   "metadata": {},
   "outputs": [
    {
     "data": {
      "text/plain": [
       "[<matplotlib.lines.Line2D at 0x7fa54e80cfd0>]"
      ]
     },
     "execution_count": 7,
     "metadata": {},
     "output_type": "execute_result"
    },
    {
     "data": {
      "image/png": "[encoded data removed]",
      "text/plain": [
       "<Figure size 720x360 with 3 Axes>"
      ]
     },
     "metadata": {},
     "output_type": "display_data"
    }
   ],
   "source": [
    "# plot the generated topography for visual verification\n",
    "plt.figure(figsize=(10,5))\n",
    "plt.subplot(1,2,1)\n",
    "plt.contourf(tau)\n",
    "plt.colorbar()\n",
    "\n",
    "plt.subplot(1,2,2)\n",
    "plt.plot(tau[:,0],'.-')"
   ]
  },
  {
   "cell_type": "code",
   "execution_count": 30,
   "metadata": {},
   "outputs": [
    {
     "data": {
      "image/png": "[encoded data removed]",
      "text/plain": [
       "<Figure size 180x360 with 1 Axes>"
      ]
     },
     "metadata": {},
     "output_type": "display_data"
    }
   ],
   "source": [
    "fig = plt.figure(figsize=(2.5,5))\n",
    "plt.rc('font', size=16)\n",
    "ax = fig.add_subplot(111)\n",
    "plt.plot(tau[:,0], yc[:,1]/1e3, linewidth=3.)\n",
    "plt.xlim([0,0.21])\n",
    "plt.ylim([0, 2000])\n",
    "plt.xlabel(r'$ \\tau (N/m^2)$')\n",
    "plt.ylabel('Y (km)')\n",
    "plt.tight_layout()\n",
    "\n",
    "plt.savefig('wind.pdf')"
   ]
  },
  {
   "cell_type": "code",
   "execution_count": 22,
   "metadata": {
    "collapsed": true
   },
   "outputs": [],
   "source": [
    "# save wind files \n",
    "tau.astype(tp).tofile((output_dir + 'TAU_%03d_%03d.bin'%(tau0*1e4,res)))"
   ]
  },
  {
   "cell_type": "markdown",
   "metadata": {},
   "source": [
    "## Surface buoyancy conditions \n",
    "\n",
    "Restore the surface to a linear buoyancy profile (temperature as there is no salt in the simulation)\n",
    "\n",
    "\\begin{equation}\n",
    "T(y) = T_o (y/L_y)\n",
    "\\end{equation}\n",
    "\n",
    "where $T_o = 8^oC$. "
   ]
  },
  {
   "cell_type": "code",
   "execution_count": 31,
   "metadata": {
    "collapsed": true
   },
   "outputs": [],
   "source": [
    "Tmin, Tmax = 0., 8.0\n",
    "Tsurf = (Tmax-Tmin)*yc/Lx"
   ]
  },
  {
   "cell_type": "code",
   "execution_count": 24,
   "metadata": {},
   "outputs": [
    {
     "data": {
      "text/plain": [
       "[<matplotlib.lines.Line2D at 0x7f1b3224f810>]"
      ]
     },
     "execution_count": 24,
     "metadata": {},
     "output_type": "execute_result"
    },
    {
     "data": {
      "image/png": "[encoded data removed]",
      "text/plain": [
       "<matplotlib.figure.Figure at 0x7f1b3243e910>"
      ]
     },
     "metadata": {},
     "output_type": "display_data"
    }
   ],
   "source": [
    "# plot the generated topography for visual verification\n",
    "plt.figure(figsize=(10,5))\n",
    "plt.subplot(1,2,1)\n",
    "plt.contourf(Tsurf)\n",
    "plt.colorbar()\n",
    "\n",
    "plt.subplot(1,2,2)\n",
    "plt.plot(Tsurf[:,0],'.-')"
   ]
  },
  {
   "cell_type": "code",
   "execution_count": 35,
   "metadata": {},
   "outputs": [
    {
     "data": {
      "image/png": "[encoded data removed]",
      "text/plain": [
       "<Figure size 180x360 with 1 Axes>"
      ]
     },
     "metadata": {},
     "output_type": "display_data"
    }
   ],
   "source": [
    "fig = plt.figure(figsize=(2.5,5))\n",
    "plt.rc('font', size=16)\n",
    "ax = fig.add_subplot(111)\n",
    "plt.plot(Tsurf[:,0], yc[:,1]/1e3, linewidth=3.)\n",
    "plt.xlim([0,8.2])\n",
    "plt.ylim([0, 2000])\n",
    "plt.xlabel(r'$ T^* (^0C)$')\n",
    "plt.ylabel('Y (km)')\n",
    "plt.tight_layout()\n",
    "\n",
    "plt.savefig('temp.pdf')"
   ]
  },
  {
   "cell_type": "code",
   "execution_count": 25,
   "metadata": {
    "collapsed": true
   },
   "outputs": [],
   "source": [
    "Tsurf.astype(tp).tofile((output_dir + 'THETA_surf_0to8_%03d.bin' %res))"
   ]
  },
  {
   "cell_type": "markdown",
   "metadata": {},
   "source": [
    "## Interpolate the initial conditions on stratification\n",
    "\n",
    "Currently just using the ones from the old runs by Ryan. However the exact intial condition shouldn't be significant. "
   ]
  },
  {
   "cell_type": "code",
   "execution_count": 10,
   "metadata": {
    "collapsed": true
   },
   "outputs": [],
   "source": [
    "hydro_file = '/swot/SUM05/dbalwada/input_files_submeso_channel_new/05km_res/THETA_init_zon_sym_005.bin'\n",
    "\n",
    "hydro = np.fromfile(hydro_file, dtype=tp)\n",
    "hydro_reshaped = hydro.reshape((40,400,400))"
   ]
  },
  {
   "cell_type": "code",
   "execution_count": 11,
   "metadata": {},
   "outputs": [
    {
     "data": {
      "text/plain": [
       "<matplotlib.contour.QuadContourSet at 0x7f89b6c8a240>"
      ]
     },
     "execution_count": 11,
     "metadata": {},
     "output_type": "execute_result"
    },
    {
     "data": {
      "image/png": "[encoded data removed]",
      "text/plain": [
       "<matplotlib.figure.Figure at 0x7f89b6c67d68>"
      ]
     },
     "metadata": {},
     "output_type": "display_data"
    }
   ],
   "source": [
    "plt.contourf(hydro_reshaped[0,:,:])"
   ]
  },
  {
   "cell_type": "code",
   "execution_count": 12,
   "metadata": {
    "collapsed": true
   },
   "outputs": [],
   "source": [
    "new_temp = hydro_reshaped + + np.random.rand(hydro_reshaped.shape[0],hydro_reshaped.shape[1],hydro_reshaped.shape[2])\n"
   ]
  },
  {
   "cell_type": "code",
   "execution_count": 13,
   "metadata": {},
   "outputs": [
    {
     "data": {
      "text/plain": [
       "<matplotlib.contour.QuadContourSet at 0x7f89b34b42e8>"
      ]
     },
     "execution_count": 13,
     "metadata": {},
     "output_type": "execute_result"
    },
    {
     "data": {
      "image/png": "[encoded data removed]",
      "text/plain": [
       "<matplotlib.figure.Figure at 0x7f89b6d4fd30>"
      ]
     },
     "metadata": {},
     "output_type": "display_data"
    }
   ],
   "source": [
    "plt.contourf(new_temp[0,:,:])"
   ]
  },
  {
   "cell_type": "code",
   "execution_count": 14,
   "metadata": {
    "collapsed": true
   },
   "outputs": [],
   "source": [
    "new_temp.astype(tp).tofile(output_dir + 'THETA_init_zon_sym_rand_%03d.bin' % res)"
   ]
  },
  {
   "cell_type": "markdown",
   "metadata": {},
   "source": [
    "## Sponge layer \n",
    "\n",
    "Take the files from Ryan's old runs \n"
   ]
  },
  {
   "cell_type": "code",
   "execution_count": 10,
   "metadata": {
    "collapsed": true
   },
   "outputs": [],
   "source": [
    "# read in the old data \n",
    "data_relax_files = '/home/dbalwada/BIN_files/relaxTfile_1000_40l.bin'\n",
    "temp_relax = np.fromfile(data_relax_files, dtype=tp)\n",
    "temp_relax_reshaped = temp_relax.reshape((40,400,200)) \n",
    "# extend the old files zonally (the old config was only 1000km zonally)\n",
    "temp_relax_large = np.zeros([40,400,400])\n",
    "temp_relax_large[:,:,0:200] = temp_relax_reshaped\n",
    "temp_relax_large[:,:,200:400] = temp_relax_reshaped\n",
    "\n",
    "data_relax_file_mask = '/home/dbalwada/BIN_files/relaxMaskFile_40l.bin'\n",
    "temp_relax_mask = np.fromfile(data_relax_file_mask, dtype=tp)\n",
    "temp_reshaped_mask = temp_relax_mask.reshape((40,400,200))\n",
    "# extend the old files zonally (the old config was only 1000km zonally)\n",
    "temp_relax_mask_large = np.zeros([40,400,400])\n",
    "temp_relax_mask_large[:,:,0:200] = temp_reshaped_mask\n",
    "temp_relax_mask_large[:,:,200:400] = temp_reshaped_mask"
   ]
  },
  {
   "cell_type": "code",
   "execution_count": 11,
   "metadata": {
    "collapsed": true
   },
   "outputs": [],
   "source": [
    "zaxis = np.array([   -5. ,   -15. ,   -25. ,   -36. ,   -49. ,   -64. ,   -81.5,\n",
    "        -102. ,  -126. ,  -154. ,  -187. ,  -226. ,  -272. ,  -327. ,\n",
    "        -393. ,  -471.5,  -565. ,  -667.5,  -770.5,  -873.5,  -976.5,\n",
    "       -1079.5, -1182.5, -1285.5, -1388.5, -1491.5, -1594.5, -1697.5,\n",
    "       -1800.5, -1903.5, -2006.5, -2109.5, -2212.5, -2315.5, -2418.5,\n",
    "       -2521.5, -2624.5, -2727.5, -2830.5, -2933.5])"
   ]
  },
  {
   "cell_type": "code",
   "execution_count": 12,
   "metadata": {},
   "outputs": [
    {
     "data": {
      "text/plain": [
       "[<matplotlib.lines.Line2D at 0x7fd81b4c6610>]"
      ]
     },
     "execution_count": 12,
     "metadata": {},
     "output_type": "execute_result"
    },
    {
     "data": {
      "image/png": "[encoded data removed]",
      "text/plain": [
       "<matplotlib.figure.Figure at 0x7fd81b4c6710>"
      ]
     },
     "metadata": {},
     "output_type": "display_data"
    }
   ],
   "source": [
    "delT = 8.0 \n",
    "h = 1000. \n",
    "Hmax = 2985.0\n",
    "\n",
    "# Use expression (2) from Abernathey et al 2011\n",
    "Tstar = delT*(np.exp(zaxis/h) - np.exp(-Hmax/h))/(1-  np.exp(-Hmax/h))\n",
    "\n",
    "plt.plot(temp_relax_large[:,200,0] , zaxis)\n",
    "plt.plot(Tstar, zaxis) \n",
    "# There is slight difference from the profile in the paper. \n",
    "# so we will use the analytical expression "
   ]
  },
  {
   "cell_type": "code",
   "execution_count": 116,
   "metadata": {
    "collapsed": true
   },
   "outputs": [],
   "source": [
    "# Make and save analytical form \n",
    "temp_relax_large_analytical = np.tile(Tstar, (400,400,1)).T\n",
    "\n",
    "temp_relax_large_analytical.astype(tp).tofile(output_dir + 'rbcs_temp_relax_%03d.bin' % res)"
   ]
  },
  {
   "cell_type": "code",
   "execution_count": 115,
   "metadata": {},
   "outputs": [
    {
     "data": {
      "text/plain": [
       "[<matplotlib.lines.Line2D at 0x7f1b2d640d50>]"
      ]
     },
     "execution_count": 115,
     "metadata": {},
     "output_type": "execute_result"
    },
    {
     "data": {
      "image/png": "[encoded data removed]",
      "text/plain": [
       "<matplotlib.figure.Figure at 0x7f1b2d6c0110>"
      ]
     },
     "metadata": {},
     "output_type": "display_data"
    }
   ],
   "source": []
  },
  {
   "cell_type": "code",
   "execution_count": 132,
   "metadata": {},
   "outputs": [
    {
     "data": {
      "text/plain": [
       "<matplotlib.contour.QuadContourSet at 0x7f1b2ccbec50>"
      ]
     },
     "execution_count": 132,
     "metadata": {},
     "output_type": "execute_result"
    },
    {
     "data": {
      "image/png": "[encoded data removed]",
      "text/plain": [
       "<matplotlib.figure.Figure at 0x7f1b2cd84a50>"
      ]
     },
     "metadata": {},
     "output_type": "display_data"
    }
   ],
   "source": [
    "plt.contourf(temp_relax_mask_large[0,:,:]) "
   ]
  },
  {
   "cell_type": "code",
   "execution_count": 106,
   "metadata": {
    "collapsed": true
   },
   "outputs": [],
   "source": [
    "#temp_relax_large.astype(tp).tofile(output_dir + 'rbcs_temp_relax_%03d.bin' % res)\n",
    "temp_relax_mask_large.astype(tp).tofile(output_dir + 'rbcs_temp_relax_mask_%03d.bin' % res)"
   ]
  },
  {
   "cell_type": "markdown",
   "metadata": {},
   "source": [
    "### Generate a sponge layer stratification based on 5km free run\n",
    "\n",
    "\n",
    "The stratification chosen for the sponge layer is too deep. This produced strong mixed layers to the south. So, instead we thought to take the \"natural\" stratification that was present in the 5km run without sponge layer and use it for the all the other cases. \n",
    "\n",
    "#### This is not the sponge that is used in the mixing paper (it was an experiment to see if we could control the overturning in the channel)"
   ]
  },
  {
   "cell_type": "code",
   "execution_count": 13,
   "metadata": {
    "collapsed": true
   },
   "outputs": [],
   "source": [
    "from xmitgcm import open_mdsdataset\n",
    "\n",
    "dir_5km = '/swot/SUM05/dbalwada/channel_model_output/varying_res/05km/run/'\n",
    "\n",
    "ds_mean = open_mdsdataset(dir_5km+'mean', grid_dir =dir_5km, delta_t=300\n",
    "                     ,ignore_unknown_vars=True, geometry='cartesian')"
   ]
  },
  {
   "cell_type": "code",
   "execution_count": 14,
   "metadata": {},
   "outputs": [
    {
     "data": {
      "text/plain": [
       "<function matplotlib.pyplot.tight_layout>"
      ]
     },
     "execution_count": 14,
     "metadata": {},
     "output_type": "execute_result"
    },
    {
     "data": {
      "image/png": "[encoded data removed]",
      "text/plain": [
       "<matplotlib.figure.Figure at 0x7fd81b6eb210>"
      ]
     },
     "metadata": {},
     "output_type": "display_data"
    }
   ],
   "source": [
    "Ld = 930\n",
    "\n",
    "dt = 1/0.003*np.sin(np.pi*(zaxis+5.)/Ld)**2\n",
    "\n",
    "dt[zaxis<=-Ld]=0\n",
    "\n",
    "Tnatural = ds_mean.Ttave.isel(time=-1,YC=-1).mean(dim='XC').values\n",
    "dTdz = np.zeros_like(Tnatural)\n",
    "\n",
    "dTdz[1:40] = np.diff(Tnatural)/np.diff(zaxis)\n",
    "Tsponge = Tnatural - dt*dTdz\n",
    "\n",
    "dTsdz = np.zeros_like(Tnatural)\n",
    "dTsdz[1:40] = np.diff(Tsponge)/np.diff(zaxis)\n",
    "\n",
    "#plt.plot(dTdz, zaxis)\n",
    "plt.subplot(1,2,2)\n",
    "plt.plot(Tnatural, zaxis,label='natural')\n",
    "plt.plot(Tsponge, zaxis, label='sponge')\n",
    "plt.legend()\n",
    "plt.ylim([-Ld, 0])\n",
    "\n",
    "plt.subplot(1,2,1)\n",
    "plt.plot(Tnatural-Tsponge, zaxis,'.-')\n",
    "#plt.plot(dt, zaxis,'.-')\n",
    "\n",
    "plt.ylim([-Ld, 0])\n",
    "\n",
    "plt.tight_layout\n"
   ]
  },
  {
   "cell_type": "code",
   "execution_count": 15,
   "metadata": {},
   "outputs": [
    {
     "data": {
      "text/plain": [
       "<function matplotlib.pyplot.tight_layout>"
      ]
     },
     "execution_count": 15,
     "metadata": {},
     "output_type": "execute_result"
    },
    {
     "data": {
      "image/png": "[encoded data removed]",
      "text/plain": [
       "<matplotlib.figure.Figure at 0x7fd80065a150>"
      ]
     },
     "metadata": {},
     "output_type": "display_data"
    }
   ],
   "source": [
    "Ld = 930\n",
    "\n",
    "dt = 1/0.003*np.sin(np.pi*(zaxis+5.)/Ld)**2\n",
    "\n",
    "dt[zaxis<=-Ld]=0\n",
    "\n",
    "Tnatural = ds_mean.Ttave.isel(time=-1,YC=-1).mean(dim='XC').values\n",
    "dTdz = np.zeros_like(Tnatural)\n",
    "\n",
    "dTdz[1:40] = np.diff(Tnatural)/np.diff(zaxis)\n",
    "Tsponge = Tnatural - dt*dTdz\n",
    "\n",
    "dTsdz = np.zeros_like(Tnatural)\n",
    "dTsdz[1:40] = np.diff(Tsponge)/np.diff(zaxis)\n",
    "\n",
    "#plt.plot(dTdz, zaxis)\n",
    "plt.subplot(1,2,2)\n",
    "plt.plot(Tnatural, zaxis,label='natural')\n",
    "plt.plot(Tsponge, zaxis, label='sponge')\n",
    "plt.legend()\n",
    "plt.ylim([-3000, 0])\n",
    "\n",
    "plt.subplot(1,2,1)\n",
    "plt.plot(Tnatural-Tsponge, zaxis,'.-')\n",
    "#plt.plot(dt, zaxis,'.-')\n",
    "\n",
    "plt.ylim([-3000, 0])\n",
    "\n",
    "plt.tight_layout\n"
   ]
  },
  {
   "cell_type": "code",
   "execution_count": 107,
   "metadata": {
    "collapsed": true
   },
   "outputs": [],
   "source": [
    "# Make and save analytical form \n",
    "temp_relax_large_analytical = np.tile(Tsponge, (400,400,1)).T\n",
    "\n",
    "temp_relax_large_analytical.astype(tp).tofile(output_dir + 'rbcs_temp_relax_prescribed_%03d_1.5C.bin' % res)"
   ]
  },
  {
   "cell_type": "code",
   "execution_count": 108,
   "metadata": {},
   "outputs": [
    {
     "data": {
      "text/plain": [
       "[<matplotlib.lines.Line2D at 0x7f6307d067d0>]"
      ]
     },
     "execution_count": 108,
     "metadata": {},
     "output_type": "execute_result"
    },
    {
     "data": {
      "image/png": "[encoded data removed]",
      "text/plain": [
       "<matplotlib.figure.Figure at 0x7f6307c71190>"
      ]
     },
     "metadata": {},
     "output_type": "display_data"
    }
   ],
   "source": [
    "plt.plot(temp_relax_large_analytical[:,300,300],zaxis)"
   ]
  },
  {
   "cell_type": "markdown",
   "metadata": {},
   "source": [
    "# Multi tracer \n"
   ]
  },
  {
   "cell_type": "code",
   "execution_count": 6,
   "metadata": {},
   "outputs": [
    {
     "name": "stderr",
     "output_type": "stream",
     "text": [
      "/home/dbalwada/miniconda/envs/dhruvenv/lib/python3.5/site-packages/xmitgcm-0.2.1-py3.5.egg/xmitgcm/mds_store.py:721: UserWarning: Couldn't find available_diagnostics.log in /swot/SUM05/dbalwada/channel_model_output/varying_res/05km/run_sponge_flat/. Using default version.\n",
      "  \"in %s. Using default version.\" % data_dir)\n",
      "/home/dbalwada/miniconda/envs/dhruvenv/lib/python3.5/site-packages/xmitgcm-0.2.1-py3.5.egg/xmitgcm/utils.py:314: UserWarning: Not sure what to do with rlev = L\n",
      "  warnings.warn(\"Not sure what to do with rlev = \" + rlev)\n",
      "/home/dbalwada/miniconda/envs/dhruvenv/lib/python3.5/site-packages/xmitgcm-0.2.1-py3.5.egg/xmitgcm/mds_store.py:235: FutureWarning: iteration over an xarray.Dataset will change in xarray v0.11 to only include data variables, not coordinates. Iterate over the Dataset.variables property instead to preserve existing behavior in a forwards compatible manner.\n",
      "  for vname in ds:\n"
     ]
    }
   ],
   "source": [
    "data_30 = '/swot/SUM05/dbalwada/channel_model_output/varying_res/05km/run_sponge_flat/'\n",
    "ds  = open_mdsdataset(data_30, delta_t=300, \n",
    "                          prefix=[''],\n",
    "                          ignore_unknown_vars=True, geometry='cartesian') "
   ]
  },
  {
   "cell_type": "code",
   "execution_count": 7,
   "metadata": {
    "collapsed": true
   },
   "outputs": [],
   "source": [
    "# c1 = y/Ly\n",
    "#[xg,yg,zg] = np.meshgrid(ds.XC, ds.YC, ds.Z)\n",
    "\n",
    "[zg,yg,xg] = np.meshgrid(ds.Z, ds.YC, ds.XC, indexing='ij')"
   ]
  },
  {
   "cell_type": "code",
   "execution_count": 8,
   "metadata": {},
   "outputs": [
    {
     "data": {
      "text/plain": [
       "(40, 400, 400)"
      ]
     },
     "execution_count": 8,
     "metadata": {},
     "output_type": "execute_result"
    }
   ],
   "source": [
    "zg.shape"
   ]
  },
  {
   "cell_type": "code",
   "execution_count": 22,
   "metadata": {},
   "outputs": [
    {
     "data": {
      "text/plain": [
       "(40, 400, 400)"
      ]
     },
     "execution_count": 22,
     "metadata": {},
     "output_type": "execute_result"
    }
   ],
   "source": [
    "yg.shape"
   ]
  },
  {
   "cell_type": "code",
   "execution_count": 22,
   "metadata": {
    "collapsed": true
   },
   "outputs": [],
   "source": [
    "# Tracers for 2D setup (zonally averaged)\n",
    "C1 = yg/Lx\n",
    "C2 = (-zg)/H\n",
    "C3 = np.cos(np.pi*yg/Lx)*np.cos(np.pi*zg/H)\n",
    "C4 = np.sin(np.pi*yg/Lx)*np.sin(np.pi*zg/H)\n",
    "C5 = np.cos(2*np.pi*yg/Lx)*np.cos(np.pi*zg/H)\n",
    "C6 = np.sin(np.pi*yg/Lx)*np.sin(2*np.pi*zg/H)\n",
    "C7 = np.cos(2*np.pi*yg/Lx)*np.cos(2*np.pi*zg/H)\n",
    "C8 = np.sin(2*np.pi*yg/Lx)*np.sin(2*np.pi*zg/H)"
   ]
  },
  {
   "cell_type": "code",
   "execution_count": 36,
   "metadata": {},
   "outputs": [
    {
     "data": {
      "text/plain": [
       "<matplotlib.contour.QuadContourSet at 0x7f89ac0ee278>"
      ]
     },
     "execution_count": 36,
     "metadata": {},
     "output_type": "execute_result"
    },
    {
     "data": {
      "image/png": "[encoded data removed]",
      "text/plain": [
       "<matplotlib.figure.Figure at 0x7f89ac0eaf98>"
      ]
     },
     "metadata": {},
     "output_type": "display_data"
    }
   ],
   "source": [
    "plt.contourf(ds.Z,ds.YC, C8[:,1,:].T)"
   ]
  },
  {
   "cell_type": "code",
   "execution_count": 37,
   "metadata": {
    "collapsed": true
   },
   "outputs": [],
   "source": [
    "C1.astype(tp).tofile(output_dir + 'C1_%03d.bin' % res)\n",
    "C2.astype(tp).tofile(output_dir + 'C2_%03d.bin' % res)\n",
    "C3.astype(tp).tofile(output_dir + 'C3_%03d.bin' % res)\n",
    "C4.astype(tp).tofile(output_dir + 'C4_%03d.bin' % res)\n",
    "C5.astype(tp).tofile(output_dir + 'C5_%03d.bin' % res)\n",
    "C6.astype(tp).tofile(output_dir + 'C6_%03d.bin' % res)\n",
    "C7.astype(tp).tofile(output_dir + 'C7_%03d.bin' % res)\n",
    "C8.astype(tp).tofile(output_dir + 'C8_%03d.bin' % res)"
   ]
  },
  {
   "cell_type": "code",
   "execution_count": 10,
   "metadata": {},
   "outputs": [
    {
     "data": {
      "text/plain": [
       "(40, 400, 400)"
      ]
     },
     "execution_count": 10,
     "metadata": {},
     "output_type": "execute_result"
    }
   ],
   "source": [
    "xg.shape"
   ]
  },
  {
   "cell_type": "code",
   "execution_count": 10,
   "metadata": {
    "collapsed": true
   },
   "outputs": [],
   "source": [
    "# Tracers for 3D setup (with ridge in the middle.)\n",
    "C1 = yg/Lx\n",
    "C2 = (-zg)/H\n",
    "C3 = np.cos(2*np.pi*xg/Lx) \n",
    "C4 = np.sin(2*np.pi*xg/Lx)\n",
    "C5 = np.sin(4*np.pi*xg/Lx)\n",
    "C6 = np.sin(np.pi*yg/Lx)\n",
    "C7 = np.cos(2*np.pi*yg/Lx)\n",
    "C8 = np.sin(2*np.pi*yg/Lx)\n",
    "C9 = np.cos(np.pi*zg/H)\n",
    "C10 = np.sin(np.pi*zg/H)"
   ]
  },
  {
   "cell_type": "code",
   "execution_count": 11,
   "metadata": {
    "collapsed": true
   },
   "outputs": [],
   "source": [
    "C1.astype(tp).tofile(output_dir + 'C1_3D_%03d.bin' % res)\n",
    "C2.astype(tp).tofile(output_dir + 'C2_3D_%03d.bin' % res)\n",
    "C3.astype(tp).tofile(output_dir + 'C3_3D_%03d.bin' % res)\n",
    "C4.astype(tp).tofile(output_dir + 'C4_3D_%03d.bin' % res)\n",
    "C5.astype(tp).tofile(output_dir + 'C5_3D_%03d.bin' % res)\n",
    "C6.astype(tp).tofile(output_dir + 'C6_3D_%03d.bin' % res)\n",
    "C7.astype(tp).tofile(output_dir + 'C7_3D_%03d.bin' % res)\n",
    "C8.astype(tp).tofile(output_dir + 'C8_3D_%03d.bin' % res)\n",
    "C9.astype(tp).tofile(output_dir + 'C9_3D_%03d.bin' % res)\n",
    "C10.astype(tp).tofile(output_dir + 'C10_3D_%03d.bin' % res)"
   ]
  },
  {
   "cell_type": "code",
   "execution_count": 13,
   "metadata": {},
   "outputs": [],
   "source": [
    "rbcs_mask = np.ones((nz,ny,nx))"
   ]
  },
  {
   "cell_type": "code",
   "execution_count": 14,
   "metadata": {},
   "outputs": [],
   "source": [
    "rbcs_mask.astype(tp).tofile(output_dir + 'rbcs_mask_ones_%03d.bin' % res)"
   ]
  },
  {
   "cell_type": "code",
   "execution_count": 12,
   "metadata": {},
   "outputs": [],
   "source": [
    "nz=40\n",
    "ny=400\n",
    "nx=400"
   ]
  },
  {
   "cell_type": "markdown",
   "metadata": {},
   "source": [
    "# Tracers restored to values"
   ]
  },
  {
   "cell_type": "code",
   "execution_count": 24,
   "metadata": {},
   "outputs": [],
   "source": [
    "# Constant 1 on surface and south wall. 0 on north wall. \n",
    "\n",
    "rbcs_mask = np.zeros((nz,ny,nx))\n",
    "rbcs_mask[0,:,:] = 1.\n",
    "rbcs_mask[:,-10:-1,:] = 1.\n",
    "rbcs_mask[:,0:2,:] = 1.\n",
    "rbcs_mask.astype(tp).tofile(output_dir + 'rbcs_mask_1_%03d.bin' % res)\n",
    "\n",
    "rbcs_relax = np.zeros((nz,ny,nx))\n",
    "rbcs_relax[0,:,:] = 1. \n",
    "rbcs_relax[:,-10:-1,:] = 0.\n",
    "rbcs_relax[:,0:2,:] = 1.\n",
    "rbcs_relax.astype(tp).tofile(output_dir + 'rbcs_relax_1_%03d.bin' % res)"
   ]
  },
  {
   "cell_type": "code",
   "execution_count": 26,
   "metadata": {},
   "outputs": [],
   "source": [
    "# tracer with linear gradient on the north wall. 0 at surface and south wall.\n",
    "\n",
    "rbcs_mask = np.zeros((nz,ny,nx))\n",
    "rbcs_mask[0,:,:] = 1.\n",
    "rbcs_mask[:,-10:-1,:] = 1.\n",
    "rbcs_mask[:,0:2,:] = 1.\n",
    "rbcs_mask.astype(tp).tofile(output_dir + 'rbcs_mask_2_%03d.bin' % res)\n",
    "\n",
    "rbcs_relax = np.zeros((nz,ny,nx))\n",
    "rbcs_relax[0,:,:] = 0. \n",
    "rbcs_relax = -zg/3000\n",
    "rbcs_relax[:,0:2,:] = 0.\n",
    "rbcs_relax.astype(tp).tofile(output_dir + 'rbcs_relax_2_%03d.bin' % res)"
   ]
  },
  {
   "cell_type": "code",
   "execution_count": 27,
   "metadata": {},
   "outputs": [],
   "source": [
    "# tracer with value 1 on the downstream of bump, 0 on the upstream\n",
    "\n",
    "rbcs_mask = np.zeros((nz,ny,nx))\n",
    "rbcs_mask[:,:,195:205] = 1.\n",
    "rbcs_mask.astype(tp).tofile(output_dir + 'rbcs_mask_3_%03d.bin' % res)\n",
    "\n",
    "rbcs_relax = np.zeros((nz,ny,nx))\n",
    "rbcs_relax[:,:,200:205] = 1. \n",
    "rbcs_relax.astype(tp).tofile(output_dir + 'rbcs_relax_3_%03d.bin' % res)"
   ]
  },
  {
   "cell_type": "code",
   "execution_count": 28,
   "metadata": {},
   "outputs": [],
   "source": [
    "# tracer with value 1 on the downstream of bump, 0 on the upstream\n",
    "\n",
    "rbcs_mask = np.zeros((nz,ny,nx))\n",
    "rbcs_mask[:,:,195:205] = 1.\n",
    "rbcs_mask.astype(tp).tofile(output_dir + 'rbcs_mask_4_%03d.bin' % res)\n",
    "\n",
    "rbcs_relax = np.zeros((nz,ny,nx))\n",
    "rbcs_relax = (3000+zg)/3000\n",
    "rbcs_relax[:,:,195:200] = 0.\n",
    "rbcs_relax.astype(tp).tofile(output_dir + 'rbcs_relax_4_%03d.bin' % res)"
   ]
  },
  {
   "cell_type": "code",
   "execution_count": null,
   "metadata": {},
   "outputs": [],
   "source": []
  }
 ],
 "metadata": {
  "anaconda-cloud": {},
  "kernelspec": {
   "display_name": "Python 3 (dhruvenv)",
   "language": "python",
   "name": "dhruvenv"
  },
  "language_info": {
   "codemirror_mode": {
    "name": "ipython",
    "version": 3
   },
   "file_extension": ".py",
   "mimetype": "text/x-python",
   "name": "python",
   "nbconvert_exporter": "python",
   "pygments_lexer": "ipython3",
   "version": "3.5.5"
  }
 },
 "nbformat": 4,
 "nbformat_minor": 2
}
