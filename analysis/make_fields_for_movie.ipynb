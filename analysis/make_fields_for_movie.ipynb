{
 "cells": [
  {
   "cell_type": "code",
   "execution_count": 1,
   "metadata": {
    "collapsed": false
   },
   "outputs": [],
   "source": [
    "# load appropriate modules\n",
    "import numpy as np\n",
    "import xarray as xr\n",
    "from xmitgcm import open_mdsdataset\n",
    "from matplotlib import pyplot as plt\n",
    "import seaborn as sns\n",
    "%matplotlib inline\n",
    "from xgcm import Grid"
   ]
  },
  {
   "cell_type": "code",
   "execution_count": 2,
   "metadata": {
    "collapsed": false
   },
   "outputs": [
    {
     "data": {
      "text/plain": [
       "<dask.context.set_options at 0x7fdcb4077d90>"
      ]
     },
     "execution_count": 2,
     "metadata": {},
     "output_type": "execute_result"
    }
   ],
   "source": [
    "import dask\n",
    "from multiprocessing.pool import ThreadPool\n",
    "dask.set_options(pool=ThreadPool(16))"
   ]
  },
  {
   "cell_type": "code",
   "execution_count": 3,
   "metadata": {
    "collapsed": false
   },
   "outputs": [
    {
     "name": "stderr",
     "output_type": "stream",
     "text": [
      "/home/dbalwada/miniconda/envs/dhruvenv/lib/python2.7/site-packages/xmitgcm/mds_store.py:696: UserWarning: Couldn't find available_diagnostics.log in /swot/SUM05/dbalwada/channel_model_output/varying_res/02km/run_5km_start_tracer/. Using default version.\n",
      "  \"in %s. Using default version.\" % data_dir)\n",
      "/home/dbalwada/miniconda/envs/dhruvenv/lib/python2.7/site-packages/xmitgcm/utils.py:314: UserWarning: Not sure what to do with rlev = L\n",
      "  warnings.warn(\"Not sure what to do with rlev = \" + rlev)\n"
     ]
    }
   ],
   "source": [
    "# load data \n",
    "nsteps = range(4665600, 4665600+103680, (4665744-4665600))\n",
    "data_dir = '/swot/SUM05/dbalwada/channel_model_output/varying_res/02km/run_5km_start_tracer/'\n",
    "#ds = open_mdsdataset(data_dir, delta_t=300, prefix=['U','V','T','W','Eta']\n",
    "#                     ,ignore_unknown_vars=True, geometry='cartesian')\n",
    "ds_tracer_2 = open_mdsdataset(data_dir, delta_t=300, iters= nsteps, prefix=['PTRACER01','T','W','V','U']\n",
    "                     ,ignore_unknown_vars=True, geometry='cartesian', ref_date = \"2100-1-1 0:0:0\")"
   ]
  },
  {
   "cell_type": "code",
   "execution_count": 4,
   "metadata": {
    "collapsed": false
   },
   "outputs": [
    {
     "name": "stderr",
     "output_type": "stream",
     "text": [
      "/home/dbalwada/miniconda/envs/dhruvenv/lib/python2.7/site-packages/xmitgcm/mds_store.py:696: UserWarning: Couldn't find available_diagnostics.log in /swot/SUM05/dbalwada/channel_model_output/varying_res/02km/run_start_5km_guowei/mean. Using default version.\n",
      "  \"in %s. Using default version.\" % data_dir)\n"
     ]
    }
   ],
   "source": [
    "dir_mean= '/swot/SUM05/dbalwada/channel_model_output/varying_res/02km/run_start_5km_guowei/'\n",
    "ds_tracer_2_mean =  open_mdsdataset(dir_mean+'mean', grid_dir= dir_mean\n",
    "                                    ,ignore_unknown_vars=True, geometry='cartesian', ref_date = \"2100-1-1 0:0:0\")"
   ]
  },
  {
   "cell_type": "code",
   "execution_count": 5,
   "metadata": {
    "collapsed": false
   },
   "outputs": [],
   "source": [
    "# EKE \n",
    "\n",
    "grid = Grid(ds_tracer_2)\n",
    "Ushift     = grid.interp(ds_tracer_2.U,axis='X')\n",
    "Umeanshift = grid.interp(ds_tracer_2_mean.uVeltave.isel(time=-1),axis='X')\n",
    "\n",
    "Vshift     = grid.interp(ds_tracer_2.V,axis='Y')\n",
    "Vmeanshift = grid.interp(ds_tracer_2_mean.vVeltave.isel(time=-1),axis='Y')\n",
    "\n",
    "\n",
    "Uprime = Ushift - Umeanshift\n",
    "Vprime = Vshift - Vmeanshift\n",
    "\n",
    "EKE = 0.5*(Uprime**2 + Vprime**2)\n",
    "EKE.name = 'EKE'\n",
    "\n",
    "# Vel gradients\n",
    "\n",
    "dy = ds_tracer_2.dyC[0,0].values\n",
    "dx = ds_tracer_2.dxC[0,0].values\n",
    "\n",
    "mask_s = 1. #~(ds_tracer_2.hFacS==0) \n",
    "mask_w = 1. #~(ds_tracer_2.hFacW==0) \n",
    "\n",
    "\n",
    "dudx = grid.interp(grid.diff(Uprime, axis='X')/dx*mask_w, axis='X')\n",
    "dvdx = grid.interp(grid.diff(Vprime, axis='X')/dx*mask_w, axis='X')\n",
    "\n",
    "dudy = grid.interp(grid.diff(Uprime, axis='Y')/dy*mask_s, axis='Y')\n",
    "dvdy = grid.interp(grid.diff(Vprime, axis='Y')/dy*mask_s, axis='Y')\n",
    "\n",
    "vorticity = (dvdx - dudy)\n",
    "vorticity.name = 'zeta'\n",
    "strain = ((dudx-dvdy)**2 + (dudy+dvdx)**2)**0.5\n",
    "strain.name = 'strain'\n",
    "divergence = dudx + dvdy\n",
    "divergence.name = 'div'\n",
    "\n",
    "# modulus of horizontal buoyancy gradients \n",
    "g =9.81\n",
    "rho_o = 1000.\n",
    "alpha = 2e-4\n",
    "dTdy = mask_s*grid.diff(ds_tracer_2['T'], axis='Y')/dy\n",
    "dTdx = mask_w*grid.diff(ds_tracer_2['T'], axis='X')/dx\n",
    "\n",
    "dbdy = g*alpha*grid.interp(dTdy, axis='Y')\n",
    "dbdx = g*alpha*grid.interp(dTdx, axis='X')\n",
    "        \n",
    "gradb = (dbdx**2 + dbdy**2)**(0.5)\n",
    "gradb.name = 'gradb'"
   ]
  },
  {
   "cell_type": "code",
   "execution_count": null,
   "metadata": {
    "collapsed": false
   },
   "outputs": [],
   "source": [
    "strain"
   ]
  },
  {
   "cell_type": "code",
   "execution_count": null,
   "metadata": {
    "collapsed": false
   },
   "outputs": [],
   "source": [
    "vorticity.isel(time=-1,YC=-3).plot(vmin=-0.0002)"
   ]
  },
  {
   "cell_type": "code",
   "execution_count": null,
   "metadata": {
    "collapsed": false
   },
   "outputs": [],
   "source": [
    "vorticity.isel(time=-1,YC=-2).plot(vmin=-0.0002)"
   ]
  },
  {
   "cell_type": "code",
   "execution_count": null,
   "metadata": {
    "collapsed": false,
    "scrolled": false
   },
   "outputs": [],
   "source": [
    "vorticity.isel(time=-1,YC=-200).plot()"
   ]
  },
  {
   "cell_type": "code",
   "execution_count": null,
   "metadata": {
    "collapsed": false
   },
   "outputs": [],
   "source": [
    "gradb.nbytes/1e9"
   ]
  },
  {
   "cell_type": "code",
   "execution_count": null,
   "metadata": {
    "collapsed": false
   },
   "outputs": [],
   "source": [
    "# PV\n",
    "f_o  = -1.1e-4\n",
    "beta = 1.4e-11 \n",
    "\n",
    "f = f_o + beta*ds_tracer_2.YC\n",
    "\n",
    "Z = ds_tracer_2.Z\n",
    "Zmid = 0.5*(Z[0:-1]+Z[:])\n",
    "\n",
    "dz = Z.diff(dim='Z')\n",
    "dT = ds_tracer_2['T'].diff(dim='Z')\n",
    "        \n",
    "dbdz = dT/dz*g*alpha"
   ]
  },
  {
   "cell_type": "code",
   "execution_count": null,
   "metadata": {
    "collapsed": false
   },
   "outputs": [],
   "source": [
    "dT"
   ]
  },
  {
   "cell_type": "code",
   "execution_count": null,
   "metadata": {
    "collapsed": false
   },
   "outputs": [],
   "source": [
    "dbdzint = np.zeros_like(ds_tracer_2['T'])\n",
    "dbdzint[:,0:39,:,:] =  dbdz.values[:,:,:,:]\n",
    "dbdz = xr.DataArray(dbdzint, dims=ds_tracer_2['T'].dims, coords=ds_tracer_2['T'].coords)\n",
    "        \n",
    "N2 = dbdz"
   ]
  },
  {
   "cell_type": "code",
   "execution_count": null,
   "metadata": {
    "collapsed": true
   },
   "outputs": [],
   "source": [
    "N2.name = 'N2'\n",
    "verPV = dbdz*(f+vorticity)\n",
    "verPV.name = 'PV'"
   ]
  },
  {
   "cell_type": "code",
   "execution_count": 7,
   "metadata": {
    "collapsed": true
   },
   "outputs": [],
   "source": [
    "#ds_tracer_2.Wi = ds_tracer_2.W\n",
    "ds_tracer_2.W.variable.dims = ['time','Z','YC','XC']"
   ]
  },
  {
   "cell_type": "code",
   "execution_count": null,
   "metadata": {
    "collapsed": true
   },
   "outputs": [],
   "source": [
    "# save the fields (EKE, N2, PV, zeta, strain, divergence, grad B, Ptracer)\n",
    "\n",
    "movie_fields = xr.Dataset({'EKE': EKE, 'N2':N2, 'PV':verPV, 'zeta':vorticity, \n",
    "                          'strain':strain, 'divergence':divergence, 'gradb':gradb,\n",
    "                           'ptracer':ds_tracer_2.PTRACER01,'W':ds_tracer_2.W, \n",
    "                          'buoyancy':ds_tracer_2['T']*alpha*g})"
   ]
  },
  {
   "cell_type": "code",
   "execution_count": 8,
   "metadata": {
    "collapsed": true
   },
   "outputs": [],
   "source": [
    "movie_fields = xr.Dataset({'EKE': EKE, 'zeta':vorticity, \n",
    "                          'strain':strain, 'divergence':divergence, 'gradb':gradb,\n",
    "                           'ptracer':ds_tracer_2.PTRACER01,'W':ds_tracer_2.W, \n",
    "                          'buoyancy':ds_tracer_2['T']*alpha*g})"
   ]
  },
  {
   "cell_type": "code",
   "execution_count": 9,
   "metadata": {
    "collapsed": false
   },
   "outputs": [
    {
     "data": {
      "text/plain": [
       "<xarray.Dataset>\n",
       "Dimensions:     (XC: 800, YC: 800, Z: 40, time: 720)\n",
       "Coordinates:\n",
       "  * YC          (YC) float32 1250.0 3750.0 6250.0 8750.0 11250.0 13750.0 ...\n",
       "  * XC          (XC) float32 1250.0 3750.0 6250.0 8750.0 11250.0 13750.0 ...\n",
       "  * Z           (Z) float32 -5.0 -15.0 -25.0 -36.0 -49.0 -64.0 -81.5 -102.0 ...\n",
       "  * time        (time) datetime64[ns] 2144-05-10 2144-05-10T12:00:00 ...\n",
       "    Depth       (YC, XC) float32 0.0 0.0 0.0 0.0 0.0 0.0 0.0 0.0 0.0 0.0 0.0 ...\n",
       "    rA          (YC, XC) float32 6.25e+06 6.25e+06 6.25e+06 6.25e+06 ...\n",
       "    PHrefC      (Z) float32 49.05 147.15 245.25 353.16 480.69 627.84 799.515 ...\n",
       "    drF         (Z) float32 10.0 10.0 10.0 12.0 14.0 16.0 19.0 22.0 26.0 ...\n",
       "    hFacC       (Z, YC, XC) float32 0.0 0.0 0.0 0.0 0.0 0.0 0.0 0.0 0.0 0.0 ...\n",
       "    iter        (time) int64 4665600 4665744 4665888 4666032 4666176 4666320 ...\n",
       "Data variables:\n",
       "    strain      (time, Z, YC, XC) float32 5.24351e-05 4.80016e-05 ...\n",
       "    W           (time, Z, YC, XC) float32 -0.0 -0.0 -0.0 -0.0 -0.0 -0.0 -0.0 ...\n",
       "    ptracer     (time, Z, YC, XC) float32 0.0 0.0 0.0 0.0 0.0 0.0 0.0 0.0 ...\n",
       "    EKE         (time, Z, YC, XC) float32 0.0 0.0 0.0 0.0 0.0 0.0 0.0 0.0 ...\n",
       "    buoyancy    (time, Z, YC, XC) float32 0.0 0.0 0.0 0.0 0.0 0.0 0.0 0.0 ...\n",
       "    divergence  (time, Z, YC, XC) float32 -2.32921e-07 -7.10203e-08 ...\n",
       "    zeta        (time, Z, YC, XC) float32 5.24345e-05 4.80015e-05 ...\n",
       "    gradb       (time, Z, YC, XC) float32 2.53307e-06 2.53369e-06 ..."
      ]
     },
     "execution_count": 9,
     "metadata": {},
     "output_type": "execute_result"
    }
   ],
   "source": [
    "movie_fields"
   ]
  },
  {
   "cell_type": "code",
   "execution_count": null,
   "metadata": {
    "collapsed": true
   },
   "outputs": [],
   "source": [
    "movie_fields.to_netcdf('/swot/SUM05/dbalwada/channel_model_output/varying_res/02km/movie_vars_1year_fromgyre.nc')\n",
    "\n",
    "\n",
    "\n"
   ]
  },
  {
   "cell_type": "code",
   "execution_count": null,
   "metadata": {
    "collapsed": true
   },
   "outputs": [],
   "source": []
  }
 ],
 "metadata": {
  "kernelspec": {
   "display_name": "Python 2 (dhruvenv)",
   "language": "python",
   "name": "dhruvenv"
  },
  "language_info": {
   "codemirror_mode": {
    "name": "ipython",
    "version": 2
   },
   "file_extension": ".py",
   "mimetype": "text/x-python",
   "name": "python",
   "nbconvert_exporter": "python",
   "pygments_lexer": "ipython2",
   "version": "2.7.13"
  }
 },
 "nbformat": 4,
 "nbformat_minor": 2
}
